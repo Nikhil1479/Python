{
 "cells": [
  {
   "cell_type": "code",
   "execution_count": 1,
   "metadata": {},
   "outputs": [
    {
     "name": "stdout",
     "output_type": "stream",
     "text": [
      "\n",
      "                         ___________\n",
      "                         \\         /\n",
      "                          )_______(\n",
      "                          |\"\"\"\"\"\"\"|_.-._,.---------.,_.-._\n",
      "                          |       | | |               | | ''-.\n",
      "                          |       |_| |_             _| |_..-'\n",
      "                          |_______| '-' `'---------'` '-'\n",
      "                          )\"\"\"\"\"\"\"(\n",
      "                         /_________\\\n",
      "                       .-------------.\n",
      "                      /_______________\\\n",
      "\n"
     ]
    }
   ],
   "source": [
    "import os\n",
    "from art import logo\n",
    "print(logo)"
   ]
  },
  {
   "cell_type": "code",
   "execution_count": 17,
   "metadata": {},
   "outputs": [],
   "source": [
    "participants = [{}]\n",
    "quit = False\n",
    "while not quit:\n",
    "    name = input(\"Enter your name: \")\n",
    "    bid = input(\"What's your bid ?: $\")\n",
    "\n",
    "    add_new_participants(name, bid)\n",
    "\n",
    "    add_more = input(\"Do you want to add more participants[yes] or [no]: \")\n",
    "\n",
    "    if add_more == 'no':\n",
    "        quit = True\n"
   ]
  },
  {
   "cell_type": "code",
   "execution_count": 15,
   "metadata": {},
   "outputs": [],
   "source": [
    "def add_new_participants(name, bid):\n",
    "    new_participants = {\n",
    "            'name': name,\n",
    "            'bid': bid\n",
    "            }\n",
    "    participants.append(new_participants)"
   ]
  },
  {
   "cell_type": "code",
   "execution_count": 18,
   "metadata": {},
   "outputs": [
    {
     "data": {
      "text/plain": [
       "[{},\n",
       " {'name': 'nikhil', 'bid': '10'},\n",
       " {'name': 'manas', 'bid': '20'},\n",
       " {'name': 'harshit', 'bid': '30'}]"
      ]
     },
     "execution_count": 18,
     "metadata": {},
     "output_type": "execute_result"
    }
   ],
   "source": [
    "participants"
   ]
  },
  {
   "cell_type": "code",
   "execution_count": 19,
   "metadata": {},
   "outputs": [
    {
     "name": "stdout",
     "output_type": "stream",
     "text": [
      "{'name': 'harshit', 'bid': '30'}\n"
     ]
    }
   ],
   "source": [
    "def who_wins(participants):\n",
    "    max_bid = {'name':\"test\",\n",
    "               'bid':0}\n",
    "    for members in range(1,len(participants)):\n",
    "        if int(participants[members]['bid']) > int(max_bid['bid']):\n",
    "            max_bid = participants[members]\n",
    "    print(max_bid)\n",
    "\n",
    "who_wins(participants)   "
   ]
  }
 ],
 "metadata": {
  "kernelspec": {
   "display_name": "Python 3",
   "language": "python",
   "name": "python3"
  },
  "language_info": {
   "codemirror_mode": {
    "name": "ipython",
    "version": 3
   },
   "file_extension": ".py",
   "mimetype": "text/x-python",
   "name": "python",
   "nbconvert_exporter": "python",
   "pygments_lexer": "ipython3",
   "version": "3.10.9"
  },
  "orig_nbformat": 4,
  "vscode": {
   "interpreter": {
    "hash": "c4e6b83cdc9c4c3fc4382c7d557d28e626855145234a06470216b246240e7bdc"
   }
  }
 },
 "nbformat": 4,
 "nbformat_minor": 2
}
