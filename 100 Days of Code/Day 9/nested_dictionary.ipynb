{
 "cells": [
  {
   "attachments": {},
   "cell_type": "markdown",
   "metadata": {},
   "source": [
    "### Nesting dictionary in dictionary"
   ]
  },
  {
   "cell_type": "code",
   "execution_count": 17,
   "metadata": {},
   "outputs": [],
   "source": [
    "travel_log = {\n",
    "   'france': {\n",
    "    'cities_visited': ['paris','lille'], \n",
    "    'times_visited': 12\n",
    "    },\n",
    "\n",
    "   'germany': {\n",
    "    'cities_visited': ['berlin','hamburg','stuttgart'],\n",
    "    'times_visited':6\n",
    "    }\n",
    "}"
   ]
  },
  {
   "cell_type": "code",
   "execution_count": 19,
   "metadata": {},
   "outputs": [
    {
     "data": {
      "text/plain": [
       "6"
      ]
     },
     "execution_count": 19,
     "metadata": {},
     "output_type": "execute_result"
    }
   ],
   "source": [
    "# Accessing data in list\n",
    "travel_log['germany']['times_visited']"
   ]
  },
  {
   "attachments": {},
   "cell_type": "markdown",
   "metadata": {},
   "source": [
    "## Nesting Dictionary in List"
   ]
  },
  {
   "cell_type": "code",
   "execution_count": 21,
   "metadata": {},
   "outputs": [],
   "source": [
    "travel_log = [\n",
    "    {\"country\":\"france\",\n",
    "    \"cities_visited\": ['paris','lille'],\n",
    "    \"times_visited\": 12\n",
    "    },\n",
    "\n",
    "    {\n",
    "    \"country\": \"germany\",\n",
    "    \"cities_visited\": ['berlin','hamburg','stuttgart'],\n",
    "    \"times_visited\": 6\n",
    "    }\n",
    "]"
   ]
  }
 ],
 "metadata": {
  "kernelspec": {
   "display_name": "Python 3",
   "language": "python",
   "name": "python3"
  },
  "language_info": {
   "codemirror_mode": {
    "name": "ipython",
    "version": 3
   },
   "file_extension": ".py",
   "mimetype": "text/x-python",
   "name": "python",
   "nbconvert_exporter": "python",
   "pygments_lexer": "ipython3",
   "version": "3.10.9"
  },
  "orig_nbformat": 4,
  "vscode": {
   "interpreter": {
    "hash": "c4e6b83cdc9c4c3fc4382c7d557d28e626855145234a06470216b246240e7bdc"
   }
  }
 },
 "nbformat": 4,
 "nbformat_minor": 2
}
